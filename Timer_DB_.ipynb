{
 "cells": [
  {
   "cell_type": "code",
   "execution_count": 219,
   "metadata": {},
   "outputs": [],
   "source": [
    "import certifi\n",
    "from pymongo.mongo_client import MongoClient\n",
    "from datetime import datetime\n",
    "import os\n",
    "\n",
    "Uri = os.getenv(\"MongoDB_URI\")\n",
    "Client = MongoClient(Uri, tlsCAFile=certifi.where())[\"Alan_the_Timer\"]\n",
    "\n",
    "now = datetime.now()"
   ]
  },
  {
   "cell_type": "code",
   "execution_count": 161,
   "metadata": {},
   "outputs": [],
   "source": [
    "def insert_timer(Discord_ID, date_to_send, message) : \n",
    "\n",
    "    if str(Discord_ID) in Client.list_collection_names() : \n",
    "\n",
    "        Client[str(Discord_ID)].insert_one({\n",
    "            \"Discord_ID\" : Discord_ID,\n",
    "            \"Date_to_send\" : date_to_send, \n",
    "            \"Created_At\" : now.strftime(\"%d-%m-%Y-%H:%M\"),\n",
    "            \"Message\" : message,\n",
    "            \"Mailed\" : False }) \n",
    "    else : \n",
    "        Client[\"Anonymous_Timers\"].insert_one({\n",
    "            \"Discord_ID\" : Discord_ID,\n",
    "            \"Date_to_send\" : date_to_send, \n",
    "            \"Created_At\" : now.strftime(\"%d-%m-%Y-%H:%M\"),\n",
    "            \"Message\" : message,\n",
    "            \"Mailed\" : False }) "
   ]
  },
  {
   "cell_type": "code",
   "execution_count": 292,
   "metadata": {},
   "outputs": [],
   "source": [
    "def create_profile(Discord_ID, email) : \n",
    "\n",
    "    Signed_Users = Client.list_collection_names()\n",
    "\n",
    "    if not str(Discord_ID) in Signed_Users : \n",
    "\n",
    "        Client[str(Discord_ID)].insert_one({\n",
    "            \"_id\" : Discord_ID,\n",
    "            \"Email\" : email\n",
    "        })\n",
    "        \n",
    "    else : \n",
    "\n",
    "        #TODO colocar para o bot falar que já existe um registro para esse ID de discord\n",
    "        print(\"Esse registro já existe\")"
   ]
  },
  {
   "cell_type": "code",
   "execution_count": 286,
   "metadata": {},
   "outputs": [],
   "source": [
    "def Change_Email(Discord_ID, email) : \n",
    "    if str(Discord_ID) in Client.list_collection_names() : \n",
    "        Client[str(Discord_ID)].update_one({\"_id\" : Discord_ID}, {\"$set\" : {\"Email\" : email}} )"
   ]
  },
  {
   "cell_type": "code",
   "execution_count": 1,
   "metadata": {},
   "outputs": [],
   "source": [
    "def Anonymous_send_not_mailed() -> None : \n",
    "    \n",
    "    db = Client\n",
    "    Anonymous_documents = db[\"Anonymous_Timers\"].find()\n",
    "\n",
    "    for document in Anonymous_documents:\n",
    "        if not document.get(\"Mailed\", True):\n",
    "            db[\"Anonymous_Timers\"].delete_one({\"_id\": document[\"_id\"]})"
   ]
  },
  {
   "cell_type": "code",
   "execution_count": 2,
   "metadata": {},
   "outputs": [],
   "source": [
    "def Signed_send_not_mailed() -> None : \n",
    "    \n",
    "    db = Client\n",
    "    Signed_Users = db.list_collection_names()\n",
    "    \n",
    "    for collection_name in Signed_Users: \n",
    "        \n",
    "        if collection_name != \"Anonymous_Timers\":\n",
    "            signed_users_document = db[collection_name].find()\n",
    "            \n",
    "            for document in signed_users_document: \n",
    "                \n",
    "                if not document.get(\"Mailed\", True): \n",
    "                    db[collection_name].delete_one({\"_id\": document[\"_id\"]})"
   ]
  },
  {
   "cell_type": "code",
   "execution_count": 312,
   "metadata": {},
   "outputs": [],
   "source": []
  },
  {
   "cell_type": "code",
   "execution_count": null,
   "metadata": {},
   "outputs": [],
   "source": []
  }
 ],
 "metadata": {
  "kernelspec": {
   "display_name": "Python 3",
   "language": "python",
   "name": "python3"
  },
  "language_info": {
   "codemirror_mode": {
    "name": "ipython",
    "version": 3
   },
   "file_extension": ".py",
   "mimetype": "text/x-python",
   "name": "python",
   "nbconvert_exporter": "python",
   "pygments_lexer": "ipython3",
   "version": "3.12.4"
  }
 },
 "nbformat": 4,
 "nbformat_minor": 2
}
